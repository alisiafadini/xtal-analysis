{
 "cells": [
  {
   "cell_type": "code",
   "execution_count": 1,
   "id": "6d24e0cb",
   "metadata": {},
   "outputs": [],
   "source": [
    "%matplotlib inline\n",
    "import matplotlib.pyplot as plt\n",
    "import numpy as np\n",
    "import reciprocalspaceship as rs\n",
    "import scipy.optimize as opt\n",
    "import gemmi as gm\n",
    "import pandas as pd\n",
    "from tqdm import tqdm\n",
    "import os\n",
    "import sys\n",
    "import diptest\n",
    "from scipy.stats import norm, kurtosis, skew, differential_entropy\n",
    "import matplotlib.mlab as mlab\n",
    "import seaborn as sns\n",
    "sns.set_context(\"notebook\", font_scale=1.4)"
   ]
  },
  {
   "cell_type": "code",
   "execution_count": 2,
   "id": "1944d9b1",
   "metadata": {},
   "outputs": [],
   "source": [
    "from xtal_analysis.xtal_analysis_functions import *\n",
    "from xtal_analysis.params import *"
   ]
  },
  {
   "cell_type": "code",
   "execution_count": 3,
   "id": "fdc1667d",
   "metadata": {},
   "outputs": [],
   "source": [
    "from skimage.restoration import denoise_tv_chambolle"
   ]
  },
  {
   "cell_type": "markdown",
   "id": "9bd1f97c",
   "metadata": {},
   "source": [
    "#### Generate set of Q-weighted $\\Delta$Fs"
   ]
  },
  {
   "cell_type": "code",
   "execution_count": 4,
   "id": "e3a43fc8",
   "metadata": {},
   "outputs": [],
   "source": [
    "calc     = load_mtz('/Users/alisia/Desktop/scaling/Cl-rsEGFP2-SACLA/FC_dark.mtz')\n",
    "off_fobs = load_mtz('/Users/alisia/Desktop/scaling/Cl-rsEGFP2-SACLA/neg5ps-400nm_fobs_unique1.mtz')\n",
    "on_fobs  = load_mtz('/Users/alisia/Desktop/scaling/Cl-rsEGFP2-SACLA/100ps-400nm_fobs_unique1.mtz')"
   ]
  },
  {
   "cell_type": "code",
   "execution_count": 5,
   "id": "4ed7f6a7",
   "metadata": {},
   "outputs": [],
   "source": [
    "data       = pd.merge(calc, off_fobs, how='inner', right_index=True, left_index=True, suffixes=('_calc', '_off'))\n",
    "data_all   = pd.merge(data, on_fobs, how='inner', right_index=True, left_index=True, suffixes=('_off', '_on')).dropna()\n",
    "data_all   = res_cutoff(data_all, h_res, l_res)\n",
    "\n",
    "fit_off, fit_c_off, fit_b_off, iso_off = scale_iso(data_all['FC_D'], data_all['F_off'], data_all['dHKL'])\n",
    "fit_on,  fit_c_on,  fit_b_on,  iso_on  = scale_iso(data_all['FC_D'], data_all['F_on'], data_all['dHKL'])"
   ]
  },
  {
   "cell_type": "code",
   "execution_count": 6,
   "id": "8aa58ed3",
   "metadata": {},
   "outputs": [],
   "source": [
    "fo_fo_diffs = iso_on - iso_off"
   ]
  },
  {
   "cell_type": "code",
   "execution_count": 7,
   "id": "305ab94e",
   "metadata": {},
   "outputs": [],
   "source": [
    "qs        =  1/(2*data_all['dHKL'])\n",
    "\n",
    "sig_off   =  (fit_c_off*np.exp(-fit_c_off*(qs**2)))* np.array(data_all['SIGF_off'])\n",
    "sig_on    =  (fit_c_on*np.exp(-fit_c_on*(qs**2)))*np.array(data_all['SIGF_on'])\n",
    "\n",
    "sig_diffs =  np.sqrt(sig_off**2 + sig_on**2)\n",
    "ws_005    =  compute_weights(fo_fo_diffs, sig_diffs, 0.05)\n",
    "ws_005_diffs = fo_fo_diffs * ws_005"
   ]
  },
  {
   "cell_type": "markdown",
   "id": "ee667ab5",
   "metadata": {},
   "source": [
    "#### Fix negative $\\Delta$F compatibility"
   ]
  },
  {
   "cell_type": "code",
   "execution_count": 8,
   "id": "2b6a5ea4",
   "metadata": {},
   "outputs": [],
   "source": [
    "diff = res_cutoff(calc, h_res, l_res).copy(deep=True)\n",
    "\n",
    "diff[\"w005\"]  = ws_005_diffs\n",
    "diff[\"w005\"]  = diff[\"w005\"].astype(\"SFAmplitude\")"
   ]
  },
  {
   "cell_type": "code",
   "execution_count": 9,
   "id": "cfec43dc",
   "metadata": {},
   "outputs": [],
   "source": [
    "diff_pos = positive_Fs(diff, 'PHI_D', 'w005', 'new_og-Phis', 'new_og-Diffs')"
   ]
  },
  {
   "cell_type": "markdown",
   "id": "3a2883ee",
   "metadata": {},
   "source": [
    "#### Keep 3% of Q-weighted $\\Delta$Fs for test dataset"
   ]
  },
  {
   "cell_type": "code",
   "execution_count": 10,
   "id": "2e0562ee",
   "metadata": {},
   "outputs": [],
   "source": [
    "test_set, fit_set = make_test_set(diff_pos, 0.03, 'new_og-Diffs', 'qw005')"
   ]
  },
  {
   "cell_type": "markdown",
   "id": "abaeec38",
   "metadata": {},
   "source": [
    "#### Loop through values of $\\lambda$ instead now"
   ]
  },
  {
   "cell_type": "code",
   "execution_count": 11,
   "id": "a10e7672",
   "metadata": {
    "scrolled": true
   },
   "outputs": [
    {
     "name": "stderr",
     "output_type": "stream",
     "text": [
      "3686400it [00:30, 120301.63it/s]\n",
      "3686400it [00:30, 119561.65it/s]\n",
      "3686400it [00:30, 120862.50it/s]\n",
      "3686400it [00:30, 119926.76it/s]\n",
      "3686400it [00:30, 120115.53it/s]\n",
      "3686400it [00:31, 116467.92it/s]\n",
      "3686400it [00:30, 119397.34it/s]\n",
      "3686400it [00:31, 117951.63it/s]\n",
      "3686400it [00:31, 118004.04it/s]\n",
      "3686400it [00:31, 117893.40it/s]\n",
      "3686400it [00:31, 118601.88it/s]\n",
      "3686400it [00:31, 117838.93it/s]\n",
      "3686400it [00:31, 118839.24it/s]\n",
      "3686400it [00:30, 119092.52it/s]\n",
      "3686400it [00:30, 119304.08it/s]\n",
      "3686400it [00:30, 119496.02it/s]\n",
      "3686400it [00:31, 118565.92it/s]\n",
      "3686400it [00:31, 118131.77it/s]\n",
      "3686400it [00:30, 119661.42it/s]\n",
      "3686400it [00:30, 120077.66it/s]\n",
      "3686400it [00:31, 118914.66it/s]\n",
      "3686400it [00:30, 119350.23it/s]\n",
      "3686400it [00:30, 120357.95it/s]\n",
      "3686400it [00:31, 117596.64it/s]\n",
      "3686400it [00:30, 119092.10it/s]\n",
      "3686400it [00:31, 118657.28it/s]\n",
      "3686400it [00:30, 119879.96it/s]\n",
      "3686400it [00:30, 118948.03it/s]\n",
      "3686400it [00:31, 117896.02it/s]\n",
      "3686400it [00:31, 116930.17it/s]\n",
      "3686400it [00:31, 118686.78it/s]\n",
      "3686400it [00:31, 117687.07it/s]\n",
      "3686400it [00:31, 118056.77it/s]\n",
      "3686400it [00:31, 118069.11it/s]\n",
      "3686400it [00:30, 119697.15it/s]\n",
      "3686400it [00:31, 118261.09it/s]\n",
      "3686400it [00:31, 118735.67it/s]\n",
      "3686400it [00:31, 118391.22it/s]\n",
      "3686400it [00:31, 118904.49it/s]\n",
      "3686400it [00:31, 118471.10it/s]\n",
      "3686400it [00:31, 118209.52it/s]\n",
      "3686400it [00:30, 119276.38it/s]\n",
      "3686400it [00:31, 118087.93it/s]\n",
      "3686400it [00:30, 119394.33it/s]\n",
      "3686400it [00:30, 119457.05it/s]\n",
      "3686400it [00:30, 120451.80it/s]\n",
      "3686400it [00:30, 120378.01it/s]\n",
      "3686400it [00:30, 119730.06it/s]\n",
      "3686400it [00:31, 118105.83it/s]\n",
      "3686400it [00:30, 120692.23it/s]\n"
     ]
    }
   ],
   "source": [
    "errors      = []\n",
    "entropies   = []\n",
    "diptests    = []\n",
    "choose_test = np.load('test_flags-qw005.npy')\n",
    "\n",
    "for l in np.linspace(1e-8, 0.1, 50):\n",
    "    fit_map    = map_from_Fs('split-qw005.mtz', 'fit-set', 'new_og-Phis', 4)\n",
    "    fit_TV_map, entropy, diptest = TV_filter(fit_map, l, 'fit')\n",
    "    \n",
    "    map_root  = 'fit_map_TV_{:.5f}'.format(l)\n",
    "    map2mtz('{}.ccp4'.format(map_root), '{}.mtz'.format(map_root), h_res)\n",
    "    \n",
    "    Fs_fit_TV = load_mtz('{}.mtz'.format(map_root))\n",
    "    Fs_fit_TV = res_cutoff(Fs_fit_TV, h_res, l_res)\n",
    "    Fs_fit_TV = Fs_fit_TV[Fs_fit_TV.index.isin(diff_pos.index)]\n",
    "    test_TV   = Fs_fit_TV['FWT'][choose_test]\n",
    "    \n",
    "    error     = np.sum(np.array(test_set) - np.array(test_TV))**2\n",
    "    errors.append(error)\n",
    "    diptests.append(diptest)\n",
    "    entropies.append(entropy)\n"
   ]
  },
  {
   "cell_type": "code",
   "execution_count": 12,
   "id": "ce7dcc48",
   "metadata": {},
   "outputs": [
    {
     "data": {
      "image/png": "[encoded data removed]",
      "text/plain": [
       "<Figure size 432x288 with 2 Axes>"
      ]
     },
     "metadata": {
      "needs_background": "light"
     },
     "output_type": "display_data"
    }
   ],
   "source": [
    "fig, ax1 = plt.subplots()\n",
    "\n",
    "color = 'red'\n",
    "ax1.set_xlabel(r'$\\lambda$')\n",
    "ax1.set_ylabel(r'$\\sum (\\Delta \\mathrm{Fobs}_\\mathrm{free} - \\Delta \\mathrm{Fcalc}_\\mathrm{free})^2$', color=color)\n",
    "ax1.plot(np.linspace(1e-8, 0.1, 50), errors, color=color, linewidth=3)\n",
    "ax1.tick_params(axis='y', labelcolor=color)\n",
    "\n",
    "ax2 = ax1.twinx() \n",
    "\n",
    "color = 'blue'\n",
    "ax2.set_ylabel('Negentropy', color=color)  \n",
    "ax2.plot(np.linspace(1e-8, 0.1, 50), entropies, color=color, linewidth=3)\n",
    "ax2.tick_params(axis='y', labelcolor=color)\n",
    "\n",
    "#fig.tight_layout()  # otherwise the right y-label is slightly clipped\n",
    "plt.show()"
   ]
  },
  {
   "cell_type": "code",
   "execution_count": null,
   "id": "11bb4dd2",
   "metadata": {},
   "outputs": [],
   "source": []
  },
  {
   "cell_type": "code",
   "execution_count": null,
   "id": "b783cf93",
   "metadata": {},
   "outputs": [],
   "source": []
  },
  {
   "cell_type": "code",
   "execution_count": null,
   "id": "9cbdbf21",
   "metadata": {},
   "outputs": [],
   "source": []
  }
 ],
 "metadata": {
  "kernelspec": {
   "display_name": "Python 3 (ipykernel)",
   "language": "python",
   "name": "python3"
  },
  "language_info": {
   "codemirror_mode": {
    "name": "ipython",
    "version": 3
   },
   "file_extension": ".py",
   "mimetype": "text/x-python",
   "name": "python",
   "nbconvert_exporter": "python",
   "pygments_lexer": "ipython3",
   "version": "3.9.2"
  }
 },
 "nbformat": 4,
 "nbformat_minor": 5
}
