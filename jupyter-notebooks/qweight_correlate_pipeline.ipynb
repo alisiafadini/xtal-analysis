{
 "cells": [
  {
   "cell_type": "code",
   "execution_count": 10,
   "id": "5acc564d",
   "metadata": {},
   "outputs": [],
   "source": [
    "%matplotlib inline\n",
    "import matplotlib.pyplot as plt\n",
    "import numpy as np\n",
    "import reciprocalspaceship as rs\n",
    "import scipy.optimize as opt\n",
    "import gemmi as gm\n",
    "from tqdm import tqdm\n",
    "import os\n",
    "import pandas as pd\n",
    "from pathlib import Path\n",
    "\n",
    "\n",
    "import matplotlib\n",
    "matplotlib.rc('xtick', labelsize=15) \n",
    "matplotlib.rc('ytick', labelsize=15)"
   ]
  },
  {
   "cell_type": "code",
   "execution_count": 2,
   "id": "a850d1d5",
   "metadata": {},
   "outputs": [],
   "source": [
    "from xtal_analysis.xtal_analysis_functions import *\n",
    "from xtal_analysis.params import *"
   ]
  },
  {
   "cell_type": "markdown",
   "id": "50936156",
   "metadata": {},
   "source": [
    "#### (1) Load in calculated_fobs, dark_fobs, light_fobs "
   ]
  },
  {
   "cell_type": "code",
   "execution_count": 3,
   "id": "0f63d844",
   "metadata": {},
   "outputs": [],
   "source": [
    "calc  = load_mtz(\"{path}/input_maps/FC_dark.mtz\".format(path=loop_path))\n",
    "off   = load_mtz(\"{path}/input_maps/neg5ps-400nm_fobs_unique1.mtz\".format(path=loop_path))\n",
    "on    = load_mtz(\"{path}/input_maps/{name}_fobs_unique1.mtz\".format(path=loop_path, name=name))"
   ]
  },
  {
   "cell_type": "markdown",
   "id": "3b3e2342",
   "metadata": {},
   "source": [
    "##### Optional resolution cut"
   ]
  },
  {
   "cell_type": "code",
   "execution_count": 4,
   "id": "5c49ef98",
   "metadata": {},
   "outputs": [],
   "source": [
    "on    = res_cutoff(on, h_res, l_res)\n",
    "off   = res_cutoff(off, h_res, l_res)\n",
    "calc = res_cutoff(calc, h_res, l_res).copy(deep=True)\n",
    "\n",
    "data     = pd.merge(calc, off, how='inner', right_index=True, left_index=True, suffixes=('_calc', '_off'))\n",
    "data_all = pd.merge(data, on, how='inner', right_index=True, left_index=True, suffixes=('_off', '_on')).dropna()"
   ]
  },
  {
   "cell_type": "code",
   "execution_count": 5,
   "id": "1b4a02ef",
   "metadata": {},
   "outputs": [
    {
     "data": {
      "text/html": [
       "<div>\n",
       "<style scoped>\n",
       "    .dataframe tbody tr th:only-of-type {\n",
       "        vertical-align: middle;\n",
       "    }\n",
       "\n",
       "    .dataframe tbody tr th {\n",
       "        vertical-align: top;\n",
       "    }\n",
       "\n",
       "    .dataframe thead th {\n",
       "        text-align: right;\n",
       "    }\n",
       "</style>\n",
       "<table border=\"1\" class=\"dataframe\">\n",
       "  <thead>\n",
       "    <tr style=\"text-align: right;\">\n",
       "      <th></th>\n",
       "      <th></th>\n",
       "      <th></th>\n",
       "      <th>FC_D</th>\n",
       "      <th>SIG_FC_D</th>\n",
       "      <th>PHI_D</th>\n",
       "      <th>dHKL_calc</th>\n",
       "      <th>FreeR_flag_off</th>\n",
       "      <th>F_off</th>\n",
       "      <th>SIGF_off</th>\n",
       "      <th>dHKL_off</th>\n",
       "      <th>FreeR_flag_on</th>\n",
       "      <th>F_on</th>\n",
       "      <th>SIGF_on</th>\n",
       "      <th>dHKL</th>\n",
       "    </tr>\n",
       "    <tr>\n",
       "      <th>H</th>\n",
       "      <th>K</th>\n",
       "      <th>L</th>\n",
       "      <th></th>\n",
       "      <th></th>\n",
       "      <th></th>\n",
       "      <th></th>\n",
       "      <th></th>\n",
       "      <th></th>\n",
       "      <th></th>\n",
       "      <th></th>\n",
       "      <th></th>\n",
       "      <th></th>\n",
       "      <th></th>\n",
       "      <th></th>\n",
       "    </tr>\n",
       "  </thead>\n",
       "  <tbody>\n",
       "    <tr>\n",
       "      <th>0</th>\n",
       "      <th>0</th>\n",
       "      <th>4</th>\n",
       "      <td>72.729</td>\n",
       "      <td>1.0</td>\n",
       "      <td>180.0</td>\n",
       "      <td>18.0075</td>\n",
       "      <td>0</td>\n",
       "      <td>9.283087</td>\n",
       "      <td>0.95805734</td>\n",
       "      <td>18.0075</td>\n",
       "      <td>0</td>\n",
       "      <td>8.011057</td>\n",
       "      <td>0.8635788</td>\n",
       "      <td>18.0075</td>\n",
       "    </tr>\n",
       "  </tbody>\n",
       "</table>\n",
       "</div>"
      ],
      "text/plain": [
       "        FC_D  SIG_FC_D  PHI_D  dHKL_calc  FreeR_flag_off    F_off   SIGF_off  \\\n",
       "H K L                                                                          \n",
       "0 0 4 72.729       1.0  180.0    18.0075               0 9.283087 0.95805734   \n",
       "\n",
       "       dHKL_off  FreeR_flag_on     F_on   SIGF_on    dHKL  \n",
       "H K L                                                      \n",
       "0 0 4   18.0075              0 8.011057 0.8635788 18.0075  "
      ]
     },
     "execution_count": 5,
     "metadata": {},
     "output_type": "execute_result"
    }
   ],
   "source": [
    "data_all.head(1)"
   ]
  },
  {
   "cell_type": "code",
   "execution_count": 6,
   "id": "e60ac5b9",
   "metadata": {},
   "outputs": [],
   "source": [
    "### this is in case there were NaN in on or off data\n",
    "#calc.drop(calc.index[np.where(np.isnan(on))[0][0]], axis=0, inplace=True)\n",
    "\n",
    "f_on    = np.array(data_all.F_on)\n",
    "f_off   = np.array(data_all.F_off)\n",
    "f_calc  = np.array(data_all.FC_D)"
   ]
  },
  {
   "cell_type": "code",
   "execution_count": 7,
   "id": "b8e1e46f",
   "metadata": {},
   "outputs": [],
   "source": [
    "#### FOR LINEAR SCALING #####\n",
    "#on_m, on_s   = scale(f_calc, f_on)\n",
    "#off_m, off_s = scale(f_calc, f_off)\n",
    "#sig_on       = data_all['SIGF_on']  / on_m\n",
    "#sig_off      = data_all['SIGF_off'] / off_m\n",
    "\n",
    "\n",
    "#### FOR ISOTROPIC RES SCALING #####\n",
    "qs = 1/(2*data_all['dHKL'])\n",
    "\n",
    "results_on, c_on, b_on, on_s     = scale_iso(f_calc, f_on,  np.array(data_all['dHKL']))\n",
    "results_off, c_off, b_off, off_s = scale_iso(f_calc, f_off, np.array(data_all['dHKL']))\n",
    "\n",
    "sig_on       = (c_on  * np.exp(-b_on*(qs**2)))  * data_all['SIGF_on']\n",
    "sig_off      = (c_off * np.exp(-b_off*(qs**2))) * data_all['SIGF_off']"
   ]
  },
  {
   "cell_type": "markdown",
   "id": "a145b071",
   "metadata": {},
   "source": [
    "#### (3)  Generate q-weighted maps for a range of BDC values. Save each map as an mtz"
   ]
  },
  {
   "cell_type": "markdown",
   "id": "48722411",
   "metadata": {},
   "source": [
    "#### AND"
   ]
  },
  {
   "cell_type": "markdown",
   "id": "471866de",
   "metadata": {},
   "source": [
    "#### (4) Compute local and global correlation difference and save as list"
   ]
  },
  {
   "cell_type": "code",
   "execution_count": 8,
   "id": "f91b8228",
   "metadata": {
    "scrolled": true
   },
   "outputs": [],
   "source": [
    "Nbg_range = [0.97, 0.95] #test a couple of values before running 100\n",
    "#Nbg_range = np.linspace(0,1, 100)\n",
    "\n",
    "\n",
    "diffs     = []\n",
    "Nbgs      = []\n",
    "CC_locs   = []\n",
    "CC_globs  = []\n",
    "\n",
    "for Nbg in Nbg_range :\n",
    "    diff, Nbg, CC_l, CC_g = screen_qweighted(on_s, off_s, sig_on, sig_off, calc, Nbg, name, alpha, h_res, l_res, loop_path, chrom_center, chrom_radius, sampling) \n",
    "    diffs.append(diff)\n",
    "    Nbgs.append(Nbg)\n",
    "    CC_locs.append(CC_l)\n",
    "    CC_globs.append(CC_g)"
   ]
  },
  {
   "cell_type": "markdown",
   "id": "7abb7b98",
   "metadata": {},
   "source": [
    "#### (5) Tidy up! Move all generated files to new folder"
   ]
  },
  {
   "cell_type": "code",
   "execution_count": 11,
   "id": "84a55aa8",
   "metadata": {},
   "outputs": [
    {
     "data": {
      "text/plain": [
       "0"
      ]
     },
     "execution_count": 11,
     "metadata": {},
     "output_type": "execute_result"
    }
   ],
   "source": [
    "#os.mkdir(\"Nbg_loop_qweighted/{}\".format(name))\n",
    "Path(\"Nbg_loop_qweighted/{}\".format(name)).mkdir(parents=True, exist_ok=True)\n",
    "os.system(\"mv {name}* Nbg_loop_qweighted/{name}/\".format(name=name))"
   ]
  },
  {
   "cell_type": "markdown",
   "id": "9297ebb3",
   "metadata": {},
   "source": [
    "#### (6) Plot and find BDC that maximizes this difference"
   ]
  },
  {
   "cell_type": "code",
   "execution_count": null,
   "id": "62835197",
   "metadata": {},
   "outputs": [],
   "source": [
    "fig, ax = plt.subplots(2,1, figsize=(8,7), tight_layout=True)\n",
    "\n",
    "ax[0].plot(Nbgs, CC_locs, 'y', label='Local', linewidth=2)\n",
    "ax[0].plot(Nbgs, CC_globs, 'k', label='Global', linewidth=2)\n",
    "\n",
    "ax[1].plot(Nbgs, diffs, 'y', linestyle= 'dashed', label='Global - Local', linewidth=2)\n",
    "ax[1].vlines(Nbgs[np.argmax(diffs)], 0.22, 0, 'r', linestyle= 'dashed', linewidth=1.5, label='Max={}'.format(np.round(Nbgs[np.argmax(diffs)], decimals=3)))\n",
    "\n",
    "ax[0].set_title('{}'.format(name), fontsize=17)\n",
    "ax[0].set_xlabel('N$_{\\mathrm{bg}}$', fontsize=17)\n",
    "ax[1].set_xlabel('N$_{\\mathrm{bg}}$', fontsize=17)\n",
    "ax[0].legend(fontsize=17)\n",
    "ax[1].legend(fontsize=17)\n",
    "plt.show()"
   ]
  },
  {
   "cell_type": "code",
   "execution_count": null,
   "id": "f26d6e85",
   "metadata": {},
   "outputs": [],
   "source": []
  },
  {
   "cell_type": "code",
   "execution_count": null,
   "id": "f62d6cd2",
   "metadata": {},
   "outputs": [],
   "source": []
  },
  {
   "cell_type": "code",
   "execution_count": null,
   "id": "498ea643",
   "metadata": {},
   "outputs": [],
   "source": []
  }
 ],
 "metadata": {
  "kernelspec": {
   "display_name": "Python 3 (ipykernel)",
   "language": "python",
   "name": "python3"
  },
  "language_info": {
   "codemirror_mode": {
    "name": "ipython",
    "version": 3
   },
   "file_extension": ".py",
   "mimetype": "text/x-python",
   "name": "python",
   "nbconvert_exporter": "python",
   "pygments_lexer": "ipython3",
   "version": "3.9.2"
  }
 },
 "nbformat": 4,
 "nbformat_minor": 5
}
