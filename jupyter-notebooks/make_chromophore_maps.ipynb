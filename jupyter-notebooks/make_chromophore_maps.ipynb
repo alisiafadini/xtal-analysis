{
 "cells": [
  {
   "cell_type": "code",
   "execution_count": 1,
   "id": "d5f8f7a6",
   "metadata": {},
   "outputs": [],
   "source": [
    "%matplotlib inline\n",
    "import matplotlib.pyplot as plt\n",
    "import numpy as np\n",
    "import reciprocalspaceship as rs\n",
    "import scipy.optimize as opt\n",
    "import gemmi as gm\n",
    "from tqdm import tqdm\n",
    "import os\n",
    "\n",
    "import matplotlib\n",
    "matplotlib.rc('xtick', labelsize=15) \n",
    "matplotlib.rc('ytick', labelsize=15)"
   ]
  },
  {
   "cell_type": "code",
   "execution_count": 2,
   "id": "10d8e0b3",
   "metadata": {},
   "outputs": [],
   "source": [
    "from xtal_analysis.xtal_analysis_functions import load_ccp4, solvent_mask, save_map, get_mapmask\n",
    "from xtal_analysis.params import *"
   ]
  },
  {
   "cell_type": "markdown",
   "id": "1d9df01e",
   "metadata": {},
   "source": [
    "#### Set all parameters"
   ]
  },
  {
   "cell_type": "code",
   "execution_count": null,
   "id": "4852a3fb",
   "metadata": {},
   "outputs": [],
   "source": [
    "spacing      = 0.35\n",
    "path         = '/Users/alisia/Desktop/SACLA_JUN2021/final_scripts/qweighted_maps/apply_PCA_denoise/'\n",
    "name         = '1'"
   ]
  },
  {
   "cell_type": "markdown",
   "id": "6b26b178",
   "metadata": {},
   "source": [
    "#### (1) Load map and apply solvent mask"
   ]
  },
  {
   "cell_type": "code",
   "execution_count": null,
   "id": "6b8e060d",
   "metadata": {},
   "outputs": [],
   "source": [
    "dataset, grid, array, array_f = load_ccp4('{path}/input_maps/{name}_diff.ccp4'.format(path=path, name=name))\n",
    "pdb = '{}dark.pdb'.format(path)"
   ]
  },
  {
   "cell_type": "code",
   "execution_count": null,
   "id": "baf400ad",
   "metadata": {},
   "outputs": [],
   "source": [
    "nosolv = solvent_mask(pdb, spacing, array)\n",
    "print('Flattened solvent-masked map shape   :', nosolv.shape)"
   ]
  },
  {
   "cell_type": "markdown",
   "id": "406cde32",
   "metadata": {},
   "source": [
    "#### (2) Apply spherical chromophore mask and save "
   ]
  },
  {
   "cell_type": "code",
   "execution_count": null,
   "id": "1c453015",
   "metadata": {},
   "outputs": [],
   "source": [
    "mask = get_mapmask(grid, chrom_center, chrom_radius)"
   ]
  },
  {
   "cell_type": "code",
   "execution_count": null,
   "id": "19b62ca3",
   "metadata": {},
   "outputs": [],
   "source": [
    "masked_array = nosolv.reshape(grid_size[0],grid_size[1],grid_size[2])*mask\n",
    "masked_array = np.nan_to_num(masked_array)"
   ]
  },
  {
   "cell_type": "code",
   "execution_count": null,
   "id": "1e8ea75e",
   "metadata": {},
   "outputs": [],
   "source": [
    "save_map('{}/output_maps/'.format(path), '{}'.format(name), masked_array)"
   ]
  },
  {
   "cell_type": "markdown",
   "id": "8173d3d2",
   "metadata": {},
   "source": [
    "#### ALTERNATIVELY\n",
    "#### Apply a rectangular mask and save (select xyz box from Coot)"
   ]
  },
  {
   "cell_type": "code",
   "execution_count": null,
   "id": "3279cdb5",
   "metadata": {},
   "outputs": [],
   "source": [
    "xlims = [19, 30]\n",
    "ylims = [31, 38]\n",
    "zlims = [35, 45]"
   ]
  },
  {
   "cell_type": "code",
   "execution_count": null,
   "id": "2c6b05d2",
   "metadata": {},
   "outputs": [],
   "source": [
    "def get_rectangularmask(grid, xlims, ylims, zlims) :\n",
    "    \n",
    "    grid\n",
    "    grid.fill(0)\n",
    "\n",
    "    for point in tqdm(grid) :\n",
    "    \n",
    "        x = grid.point_to_position(point)[0]\n",
    "        y = grid.point_to_position(point)[1]\n",
    "        z = grid.point_to_position(point)[2]\n",
    "                \n",
    "        if xlims[0] < x < xlims[1] and ylims[0] < y < ylims[1] and  zlims[0] < z < zlims[1] :\n",
    "            grid.set_value(point.u, point.v, point.w, 1.0)\n",
    "            \n",
    "    grid.symmetrize_max()\n",
    "    \n",
    "    return np.array(grid, copy=True)"
   ]
  },
  {
   "cell_type": "code",
   "execution_count": null,
   "id": "223ed1ea",
   "metadata": {},
   "outputs": [],
   "source": [
    "#mask = get_rectangularmask(grid, xlims, ylims, zlims)"
   ]
  },
  {
   "cell_type": "code",
   "execution_count": null,
   "id": "b45c6fed",
   "metadata": {},
   "outputs": [],
   "source": [
    "#masked_array = nosolv.reshape(grid_size[0],grid_size[1],grid_size[2])*mask\n",
    "#masked_array = np.nan_to_num(masked_array)"
   ]
  },
  {
   "cell_type": "code",
   "execution_count": null,
   "id": "d7d06f49",
   "metadata": {},
   "outputs": [],
   "source": [
    "#save_map('{}/output_maps/'.format(path), '{}_rect'.format(name), masked_array)"
   ]
  },
  {
   "cell_type": "code",
   "execution_count": null,
   "id": "a2252f5f",
   "metadata": {},
   "outputs": [],
   "source": []
  },
  {
   "cell_type": "code",
   "execution_count": null,
   "id": "c5e0696c",
   "metadata": {},
   "outputs": [],
   "source": []
  }
 ],
 "metadata": {
  "kernelspec": {
   "display_name": "Python 3 (ipykernel)",
   "language": "python",
   "name": "python3"
  },
  "language_info": {
   "codemirror_mode": {
    "name": "ipython",
    "version": 3
   },
   "file_extension": ".py",
   "mimetype": "text/x-python",
   "name": "python",
   "nbconvert_exporter": "python",
   "pygments_lexer": "ipython3",
   "version": "3.9.2"
  }
 },
 "nbformat": 4,
 "nbformat_minor": 5
}
